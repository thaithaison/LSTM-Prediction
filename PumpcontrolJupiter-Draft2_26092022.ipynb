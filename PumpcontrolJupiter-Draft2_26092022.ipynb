{
 "cells": [
  {
   "cell_type": "code",
   "execution_count": 360,
   "id": "4a152b5f",
   "metadata": {
    "pycharm": {
     "name": "#%%\n"
    }
   },
   "outputs": [],
   "source": [
    "import numpy as np # linear algebra\n",
    "import pandas as pd # data processing, CSV file I/O (e.g. pd.read_csv)\n",
    "import warnings\n",
    "warnings.filterwarnings(\"ignore\") # hide warnings"
   ]
  },
  {
   "cell_type": "code",
   "execution_count": 361,
   "id": "c7f84f19",
   "metadata": {
    "pycharm": {
     "name": "#%%\n"
    }
   },
   "outputs": [],
   "source": [
    "import pandas as pd\n",
    "import numpy as np\n",
    "import matplotlib.pyplot as plt\n",
    "import seaborn as sns\n",
    "import pprint\n",
    "%matplotlib inline\n",
    "from datetime import datetime"
   ]
  },
  {
   "cell_type": "code",
   "execution_count": 362,
   "id": "abbf7f5d",
   "metadata": {
    "pycharm": {
     "name": "#%%\n"
    },
    "scrolled": true
   },
   "outputs": [
    {
     "name": "stdout",
     "output_type": "stream",
     "text": [
      "==================================================\n",
      "First Five Rows  \n",
      "\n",
      "              Time  Flowrate (l/min)\n",
      "0  2022-01-01 0:00               0.0\n",
      "1  2022-01-01 0:15               0.0\n",
      "2  2022-01-01 0:30               0.0\n",
      "3  2022-01-01 0:45               0.0\n",
      "4  2022-01-01 1:00               0.0 \n",
      "\n",
      "==================================================\n",
      "Information About Dataset \n",
      "\n",
      "<class 'pandas.core.frame.DataFrame'>\n",
      "RangeIndex: 35040 entries, 0 to 35039\n",
      "Data columns (total 2 columns):\n",
      " #   Column            Non-Null Count  Dtype  \n",
      "---  ------            --------------  -----  \n",
      " 0   Time              35040 non-null  object \n",
      " 1   Flowrate (l/min)  35040 non-null  float64\n",
      "dtypes: float64(1), object(1)\n",
      "memory usage: 547.6+ KB\n",
      "None \n",
      "\n",
      "==================================================\n",
      "Describe the Dataset  \n",
      "\n",
      "       Flowrate (l/min)\n",
      "count      35040.000000\n",
      "mean           3.125000\n",
      "std            9.793984\n",
      "min            0.000000\n",
      "25%            0.000000\n",
      "50%            0.000000\n",
      "75%            2.200000\n",
      "max          214.800000 \n",
      "\n",
      "==================================================\n",
      "Null Values t  \n",
      "\n",
      "Time                0\n",
      "Flowrate (l/min)    0\n",
      "dtype: int64 \n",
      "\n"
     ]
    }
   ],
   "source": [
    "df = pd.read_csv(\"15mindataCSV.csv\")\n",
    "print(\"=\"*50)\n",
    "print(\"First Five Rows \",\"\\n\")\n",
    "print(df.head(5),\"\\n\")\n",
    "\n",
    "print(\"=\"*50)\n",
    "print(\"Information About Dataset\",\"\\n\")\n",
    "print(df.info(),\"\\n\")\n",
    "\n",
    "print(\"=\"*50)\n",
    "print(\"Describe the Dataset \",\"\\n\")\n",
    "print(df.describe(),\"\\n\")\n",
    "\n",
    "print(\"=\"*50)\n",
    "print(\"Null Values t \",\"\\n\")\n",
    "print(df.isnull().sum(),\"\\n\")"
   ]
  },
  {
   "cell_type": "code",
   "execution_count": 363,
   "id": "78da4e9a",
   "metadata": {
    "pycharm": {
     "name": "#%%\n"
    }
   },
   "outputs": [
    {
     "name": "stdout",
     "output_type": "stream",
     "text": [
      "                     Flowrate (l/min)  Month  Year        Date      Hour  \\\n",
      "Time                                                                       \n",
      "2022-01-01 00:00:00               0.0      1  2022  2022-01-01  00:00:00   \n",
      "2022-01-01 00:15:00               0.0      1  2022  2022-01-01  00:15:00   \n",
      "2022-01-01 00:30:00               0.0      1  2022  2022-01-01  00:30:00   \n",
      "2022-01-01 00:45:00               0.0      1  2022  2022-01-01  00:45:00   \n",
      "2022-01-01 01:00:00               0.0      1  2022  2022-01-01  01:00:00   \n",
      "...                               ...    ...   ...         ...       ...   \n",
      "2022-12-31 20:15:00               0.0     12  2022  2022-12-31  20:15:00   \n",
      "2022-12-31 20:30:00               3.6     12  2022  2022-12-31  20:30:00   \n",
      "2022-12-31 20:45:00               0.0     12  2022  2022-12-31  20:45:00   \n",
      "2022-12-31 21:00:00               5.8     12  2022  2022-12-31  21:00:00   \n",
      "2022-12-31 21:15:00              11.4     12  2022  2022-12-31  21:15:00   \n",
      "\n",
      "                     Week       Day  \n",
      "Time                                 \n",
      "2022-01-01 00:00:00    52  Saturday  \n",
      "2022-01-01 00:15:00    52  Saturday  \n",
      "2022-01-01 00:30:00    52  Saturday  \n",
      "2022-01-01 00:45:00    52  Saturday  \n",
      "2022-01-01 01:00:00    52  Saturday  \n",
      "...                   ...       ...  \n",
      "2022-12-31 20:15:00    52  Saturday  \n",
      "2022-12-31 20:30:00    52  Saturday  \n",
      "2022-12-31 20:45:00    52  Saturday  \n",
      "2022-12-31 21:00:00    52  Saturday  \n",
      "2022-12-31 21:15:00    52  Saturday  \n",
      "\n",
      "[35030 rows x 7 columns]\n",
      "<class 'pandas.core.frame.DataFrame'>\n",
      "DatetimeIndex: 35040 entries, 2022-01-01 00:00:00 to 2022-12-31 23:45:00\n",
      "Data columns (total 7 columns):\n",
      " #   Column            Non-Null Count  Dtype  \n",
      "---  ------            --------------  -----  \n",
      " 0   Flowrate (l/min)  35040 non-null  float64\n",
      " 1   Month             35040 non-null  int64  \n",
      " 2   Year              35040 non-null  int64  \n",
      " 3   Date              35040 non-null  object \n",
      " 4   Hour              35040 non-null  object \n",
      " 5   Week              35040 non-null  int64  \n",
      " 6   Day               35040 non-null  object \n",
      "dtypes: float64(1), int64(3), object(3)\n",
      "memory usage: 2.1+ MB\n",
      "None \n",
      "\n"
     ]
    }
   ],
   "source": [
    "# Extract all Data Like Year MOnth Day Time etc\n",
    "df[\"Month\"] = pd.to_datetime(df[\"Time\"]).dt.month\n",
    "df[\"Year\"] = pd.to_datetime(df[\"Time\"]).dt.year\n",
    "df[\"Date\"] = pd.to_datetime(df[\"Time\"]).dt.date\n",
    "df[\"Hour\"] = pd.to_datetime(df[\"Time\"]).dt.time\n",
    "df[\"Week\"] = pd.to_datetime(df[\"Time\"]).dt.week\n",
    "df[\"Day\"] = pd.to_datetime(df[\"Time\"]).dt.day_name()\n",
    "df = df.set_index(\"Time\")\n",
    "df.index = pd.to_datetime(df.index)\n",
    "#dataset[\"Time\"] = pd.to_datetime(df[\"Time\"]).dt.strftime(\"%Y %m %d %H %M\")\n",
    "print(dataset.head(-10))\n",
    "print(df.info(),\"\\n\")"
   ]
  },
  {
   "cell_type": "code",
   "execution_count": 364,
   "id": "e9f3a21a",
   "metadata": {
    "pycharm": {
     "name": "#%%\n"
    }
   },
   "outputs": [
    {
     "data": {
      "image/png": "[encoded data removed]",
      "text/plain": [
       "<Figure size 432x288 with 1 Axes>"
      ]
     },
     "metadata": {
      "needs_background": "light"
     },
     "output_type": "display_data"
    }
   ],
   "source": [
    "from matplotlib import style\n",
    "import matplotlib.dates as md\n",
    "\n",
    "fig = plt.figure()\n",
    "\n",
    "ax1= fig.add_subplot(311)\n",
    "\n",
    "\n",
    "style.use('ggplot')\n",
    "\n",
    "January  = dataset.iloc[:,0:1]\n",
    "January = January.loc['20220101':'20220101']\n",
    "\n",
    "#plt.plot(January.index,January[\"Flowrate (l/min)\"],  linewidth=2)\n",
    "plt.bar(January.index,January[\"Flowrate (l/min)\"],width=0.01)\n",
    "\n",
    "plt.rcParams[\"figure.figsize\"] = (20,10)\n",
    "plt.title(\"Hot water consumtion on January 1st\")\n",
    "plt.xlabel(\"Time\")\n",
    "plt.ylabel(\"Flow rate in l/h\")\n",
    "plt.grid(True, alpha=1)\n",
    "ax1.xaxis.set_major_locator(md.MinuteLocator(byminute = [0, 120]))\n",
    "ax1.xaxis.set_major_formatter(md.DateFormatter('%H:%M'))\n",
    "\n",
    "#for label in ax1.xaxis.get_ticklabels():\n",
    "    #label.set_rotation(90)\n",
    "\n"
   ]
  },
  {
   "cell_type": "code",
   "execution_count": 365,
   "id": "a1599aa5",
   "metadata": {
    "pycharm": {
     "name": "#%%\n"
    }
   },
   "outputs": [
    {
     "data": {
      "text/html": [
       "<div>\n",
       "<style scoped>\n",
       "    .dataframe tbody tr th:only-of-type {\n",
       "        vertical-align: middle;\n",
       "    }\n",
       "\n",
       "    .dataframe tbody tr th {\n",
       "        vertical-align: top;\n",
       "    }\n",
       "\n",
       "    .dataframe thead th {\n",
       "        text-align: right;\n",
       "    }\n",
       "</style>\n",
       "<table border=\"1\" class=\"dataframe\">\n",
       "  <thead>\n",
       "    <tr style=\"text-align: right;\">\n",
       "      <th></th>\n",
       "      <th>Flowrate (l/min)</th>\n",
       "    </tr>\n",
       "    <tr>\n",
       "      <th>Time</th>\n",
       "      <th></th>\n",
       "    </tr>\n",
       "  </thead>\n",
       "  <tbody>\n",
       "    <tr>\n",
       "      <th>2022-01-01 00:00:00</th>\n",
       "      <td>0.0</td>\n",
       "    </tr>\n",
       "    <tr>\n",
       "      <th>2022-01-01 00:15:00</th>\n",
       "      <td>0.0</td>\n",
       "    </tr>\n",
       "    <tr>\n",
       "      <th>2022-01-01 00:30:00</th>\n",
       "      <td>0.0</td>\n",
       "    </tr>\n",
       "    <tr>\n",
       "      <th>2022-01-01 00:45:00</th>\n",
       "      <td>0.0</td>\n",
       "    </tr>\n",
       "    <tr>\n",
       "      <th>2022-01-01 01:00:00</th>\n",
       "      <td>0.0</td>\n",
       "    </tr>\n",
       "    <tr>\n",
       "      <th>...</th>\n",
       "      <td>...</td>\n",
       "    </tr>\n",
       "    <tr>\n",
       "      <th>2022-12-31 22:45:00</th>\n",
       "      <td>0.0</td>\n",
       "    </tr>\n",
       "    <tr>\n",
       "      <th>2022-12-31 23:00:00</th>\n",
       "      <td>0.0</td>\n",
       "    </tr>\n",
       "    <tr>\n",
       "      <th>2022-12-31 23:15:00</th>\n",
       "      <td>0.0</td>\n",
       "    </tr>\n",
       "    <tr>\n",
       "      <th>2022-12-31 23:30:00</th>\n",
       "      <td>0.0</td>\n",
       "    </tr>\n",
       "    <tr>\n",
       "      <th>2022-12-31 23:45:00</th>\n",
       "      <td>0.0</td>\n",
       "    </tr>\n",
       "  </tbody>\n",
       "</table>\n",
       "<p>35040 rows × 1 columns</p>\n",
       "</div>"
      ],
      "text/plain": [
       "                     Flowrate (l/min)\n",
       "Time                                 \n",
       "2022-01-01 00:00:00               0.0\n",
       "2022-01-01 00:15:00               0.0\n",
       "2022-01-01 00:30:00               0.0\n",
       "2022-01-01 00:45:00               0.0\n",
       "2022-01-01 01:00:00               0.0\n",
       "...                               ...\n",
       "2022-12-31 22:45:00               0.0\n",
       "2022-12-31 23:00:00               0.0\n",
       "2022-12-31 23:15:00               0.0\n",
       "2022-12-31 23:30:00               0.0\n",
       "2022-12-31 23:45:00               0.0\n",
       "\n",
       "[35040 rows x 1 columns]"
      ]
     },
     "execution_count": 365,
     "metadata": {},
     "output_type": "execute_result"
    },
    {
     "data": {
      "image/png": "[encoded data removed]",
      "text/plain": [
       "<Figure size 1440x720 with 1 Axes>"
      ]
     },
     "metadata": {},
     "output_type": "display_data"
    }
   ],
   "source": [
    "Flow = df['Flowrate (l/min)']\n",
    "Flow.plot()\n",
    "df = df.iloc[:,0:1]\n",
    "\n",
    "df\n"
   ]
  },
  {
   "cell_type": "code",
   "execution_count": 366,
   "id": "acd3451c",
   "metadata": {
    "scrolled": true
   },
   "outputs": [
    {
     "data": {
      "text/html": [
       "<div>\n",
       "<style scoped>\n",
       "    .dataframe tbody tr th:only-of-type {\n",
       "        vertical-align: middle;\n",
       "    }\n",
       "\n",
       "    .dataframe tbody tr th {\n",
       "        vertical-align: top;\n",
       "    }\n",
       "\n",
       "    .dataframe thead th {\n",
       "        text-align: right;\n",
       "    }\n",
       "</style>\n",
       "<table border=\"1\" class=\"dataframe\">\n",
       "  <thead>\n",
       "    <tr style=\"text-align: right;\">\n",
       "      <th></th>\n",
       "      <th>Flowrate (l/min)</th>\n",
       "      <th>Hour_of_day</th>\n",
       "      <th>15min_sin</th>\n",
       "      <th>15min_cos</th>\n",
       "    </tr>\n",
       "    <tr>\n",
       "      <th>Time</th>\n",
       "      <th></th>\n",
       "      <th></th>\n",
       "      <th></th>\n",
       "      <th></th>\n",
       "    </tr>\n",
       "  </thead>\n",
       "  <tbody>\n",
       "    <tr>\n",
       "      <th>2022-01-01 00:00:00</th>\n",
       "      <td>0.0</td>\n",
       "      <td>0</td>\n",
       "      <td>0.000000</td>\n",
       "      <td>1.000000</td>\n",
       "    </tr>\n",
       "    <tr>\n",
       "      <th>2022-01-01 00:15:00</th>\n",
       "      <td>0.0</td>\n",
       "      <td>0</td>\n",
       "      <td>0.000000</td>\n",
       "      <td>1.000000</td>\n",
       "    </tr>\n",
       "    <tr>\n",
       "      <th>2022-01-01 00:30:00</th>\n",
       "      <td>0.0</td>\n",
       "      <td>0</td>\n",
       "      <td>0.000000</td>\n",
       "      <td>1.000000</td>\n",
       "    </tr>\n",
       "    <tr>\n",
       "      <th>2022-01-01 00:45:00</th>\n",
       "      <td>0.0</td>\n",
       "      <td>0</td>\n",
       "      <td>0.000000</td>\n",
       "      <td>1.000000</td>\n",
       "    </tr>\n",
       "    <tr>\n",
       "      <th>2022-01-01 01:00:00</th>\n",
       "      <td>0.0</td>\n",
       "      <td>1</td>\n",
       "      <td>0.258819</td>\n",
       "      <td>0.965926</td>\n",
       "    </tr>\n",
       "    <tr>\n",
       "      <th>...</th>\n",
       "      <td>...</td>\n",
       "      <td>...</td>\n",
       "      <td>...</td>\n",
       "      <td>...</td>\n",
       "    </tr>\n",
       "    <tr>\n",
       "      <th>2022-12-31 22:45:00</th>\n",
       "      <td>0.0</td>\n",
       "      <td>22</td>\n",
       "      <td>-0.500000</td>\n",
       "      <td>0.866025</td>\n",
       "    </tr>\n",
       "    <tr>\n",
       "      <th>2022-12-31 23:00:00</th>\n",
       "      <td>0.0</td>\n",
       "      <td>23</td>\n",
       "      <td>-0.258819</td>\n",
       "      <td>0.965926</td>\n",
       "    </tr>\n",
       "    <tr>\n",
       "      <th>2022-12-31 23:15:00</th>\n",
       "      <td>0.0</td>\n",
       "      <td>23</td>\n",
       "      <td>-0.258819</td>\n",
       "      <td>0.965926</td>\n",
       "    </tr>\n",
       "    <tr>\n",
       "      <th>2022-12-31 23:30:00</th>\n",
       "      <td>0.0</td>\n",
       "      <td>23</td>\n",
       "      <td>-0.258819</td>\n",
       "      <td>0.965926</td>\n",
       "    </tr>\n",
       "    <tr>\n",
       "      <th>2022-12-31 23:45:00</th>\n",
       "      <td>0.0</td>\n",
       "      <td>23</td>\n",
       "      <td>-0.258819</td>\n",
       "      <td>0.965926</td>\n",
       "    </tr>\n",
       "  </tbody>\n",
       "</table>\n",
       "<p>35040 rows × 4 columns</p>\n",
       "</div>"
      ],
      "text/plain": [
       "                     Flowrate (l/min)  Hour_of_day  15min_sin  15min_cos\n",
       "Time                                                                    \n",
       "2022-01-01 00:00:00               0.0            0   0.000000   1.000000\n",
       "2022-01-01 00:15:00               0.0            0   0.000000   1.000000\n",
       "2022-01-01 00:30:00               0.0            0   0.000000   1.000000\n",
       "2022-01-01 00:45:00               0.0            0   0.000000   1.000000\n",
       "2022-01-01 01:00:00               0.0            1   0.258819   0.965926\n",
       "...                               ...          ...        ...        ...\n",
       "2022-12-31 22:45:00               0.0           22  -0.500000   0.866025\n",
       "2022-12-31 23:00:00               0.0           23  -0.258819   0.965926\n",
       "2022-12-31 23:15:00               0.0           23  -0.258819   0.965926\n",
       "2022-12-31 23:30:00               0.0           23  -0.258819   0.965926\n",
       "2022-12-31 23:45:00               0.0           23  -0.258819   0.965926\n",
       "\n",
       "[35040 rows x 4 columns]"
      ]
     },
     "execution_count": 366,
     "metadata": {},
     "output_type": "execute_result"
    }
   ],
   "source": [
    "from sklearn.preprocessing import FunctionTransformer\n",
    "\n",
    "def sin_transformer(period):\n",
    "    return FunctionTransformer(lambda x: np.sin(x / period * 2 * np.pi))\n",
    "\n",
    "\n",
    "def cos_transformer(period):\n",
    "    return FunctionTransformer(lambda x: np.cos(x / period * 2 * np.pi))\n",
    "\n",
    "#X_new = dataset.iloc[:,0:1]\n",
    "df[\"Hour_of_day\"] = df.index.hour\n",
    "\n",
    "\n",
    "\n",
    "df[\"15min_sin\"] = sin_transformer(24).fit_transform(df)[\"Hour_of_day\"]\n",
    "df[\"15min_cos\"] = cos_transformer(24).fit_transform(df)[\"Hour_of_day\"]\n",
    "df"
   ]
  },
  {
   "cell_type": "code",
   "execution_count": 367,
   "id": "72a2db84",
   "metadata": {},
   "outputs": [
    {
     "data": {
      "text/html": [
       "<div>\n",
       "<style scoped>\n",
       "    .dataframe tbody tr th:only-of-type {\n",
       "        vertical-align: middle;\n",
       "    }\n",
       "\n",
       "    .dataframe tbody tr th {\n",
       "        vertical-align: top;\n",
       "    }\n",
       "\n",
       "    .dataframe thead th {\n",
       "        text-align: right;\n",
       "    }\n",
       "</style>\n",
       "<table border=\"1\" class=\"dataframe\">\n",
       "  <thead>\n",
       "    <tr style=\"text-align: right;\">\n",
       "      <th></th>\n",
       "      <th></th>\n",
       "      <th>Flowrate (l/min)</th>\n",
       "    </tr>\n",
       "    <tr>\n",
       "      <th>15min_sin</th>\n",
       "      <th>15min_cos</th>\n",
       "      <th></th>\n",
       "    </tr>\n",
       "  </thead>\n",
       "  <tbody>\n",
       "    <tr>\n",
       "      <th rowspan=\"4\" valign=\"top\">0.000000</th>\n",
       "      <th>1.000000</th>\n",
       "      <td>0.0</td>\n",
       "    </tr>\n",
       "    <tr>\n",
       "      <th>1.000000</th>\n",
       "      <td>0.0</td>\n",
       "    </tr>\n",
       "    <tr>\n",
       "      <th>1.000000</th>\n",
       "      <td>0.0</td>\n",
       "    </tr>\n",
       "    <tr>\n",
       "      <th>1.000000</th>\n",
       "      <td>0.0</td>\n",
       "    </tr>\n",
       "    <tr>\n",
       "      <th>0.258819</th>\n",
       "      <th>0.965926</th>\n",
       "      <td>0.0</td>\n",
       "    </tr>\n",
       "    <tr>\n",
       "      <th>...</th>\n",
       "      <th>...</th>\n",
       "      <td>...</td>\n",
       "    </tr>\n",
       "    <tr>\n",
       "      <th>-0.500000</th>\n",
       "      <th>0.866025</th>\n",
       "      <td>0.0</td>\n",
       "    </tr>\n",
       "    <tr>\n",
       "      <th rowspan=\"4\" valign=\"top\">-0.258819</th>\n",
       "      <th>0.965926</th>\n",
       "      <td>0.0</td>\n",
       "    </tr>\n",
       "    <tr>\n",
       "      <th>0.965926</th>\n",
       "      <td>0.0</td>\n",
       "    </tr>\n",
       "    <tr>\n",
       "      <th>0.965926</th>\n",
       "      <td>0.0</td>\n",
       "    </tr>\n",
       "    <tr>\n",
       "      <th>0.965926</th>\n",
       "      <td>0.0</td>\n",
       "    </tr>\n",
       "  </tbody>\n",
       "</table>\n",
       "<p>35040 rows × 1 columns</p>\n",
       "</div>"
      ],
      "text/plain": [
       "                     Flowrate (l/min)\n",
       "15min_sin 15min_cos                  \n",
       " 0.000000 1.000000                0.0\n",
       "          1.000000                0.0\n",
       "          1.000000                0.0\n",
       "          1.000000                0.0\n",
       " 0.258819 0.965926                0.0\n",
       "...                               ...\n",
       "-0.500000 0.866025                0.0\n",
       "-0.258819 0.965926                0.0\n",
       "          0.965926                0.0\n",
       "          0.965926                0.0\n",
       "          0.965926                0.0\n",
       "\n",
       "[35040 rows x 1 columns]"
      ]
     },
     "execution_count": 367,
     "metadata": {},
     "output_type": "execute_result"
    }
   ],
   "source": [
    "df = df[['15min_sin', '15min_cos', 'Flowrate (l/min)']]\n",
    "df = df.set_index(['15min_sin','15min_cos'])\n",
    "#df.index = pd.to_datetime(df.index)\n",
    "df"
   ]
  },
  {
   "cell_type": "code",
   "execution_count": null,
   "id": "0e24e949",
   "metadata": {},
   "outputs": [],
   "source": []
  },
  {
   "cell_type": "code",
   "execution_count": 368,
   "id": "20a1554a",
   "metadata": {},
   "outputs": [],
   "source": [
    "WINDOW_SIZE = 1440"
   ]
  },
  {
   "cell_type": "code",
   "execution_count": 369,
   "id": "587207fa",
   "metadata": {},
   "outputs": [],
   "source": [
    "def df_to_X_y(df,window_size=1440):\n",
    "    df_as_np=df.to_numpy()\n",
    "    X = []\n",
    "    y = []\n",
    "    for i in range (len(df_as_np)-window_size):\n",
    "        row = [[a] for a in df_as_np[i:i+window_size]]\n",
    "        X.append(row)\n",
    "        label = df_as_np[i+window_size]\n",
    "        y.append(label)\n",
    "    return np.array(X), np.array(y)"
   ]
  },
  {
   "cell_type": "code",
   "execution_count": 370,
   "id": "541db7f6",
   "metadata": {},
   "outputs": [
    {
     "data": {
      "text/plain": [
       "((33600, 1440, 1), (33600,))"
      ]
     },
     "execution_count": 370,
     "metadata": {},
     "output_type": "execute_result"
    }
   ],
   "source": [
    "X,y=df_to_X_y(Flow,WINDOW_SIZE)\n",
    "X.shape, y.shape"
   ]
  },
  {
   "cell_type": "code",
   "execution_count": 371,
   "id": "ca685160",
   "metadata": {},
   "outputs": [
    {
     "data": {
      "text/plain": [
       "((30000, 1440, 1),\n",
       " (30000,),\n",
       " (2000, 1440, 1),\n",
       " (2000,),\n",
       " (1600, 1440, 1),\n",
       " (1600,))"
      ]
     },
     "execution_count": 371,
     "metadata": {},
     "output_type": "execute_result"
    }
   ],
   "source": [
    "X_train,y_train = X[:30000],y[:30000]\n",
    "X_val,y_val = X[30000:32000],y[30000:32000]\n",
    "X_test,y_test = X[32000:],y[32000:]\n",
    "X_train.shape, y_train.shape, X_val.shape, y_val.shape, X_test.shape, y_test.shape"
   ]
  },
  {
   "cell_type": "code",
   "execution_count": 372,
   "id": "bf2b2f64",
   "metadata": {},
   "outputs": [],
   "source": [
    "from keras.models import Sequential\n",
    "from keras.layers import Dense\n",
    "from keras.layers import LSTM\n",
    "from keras.layers import Dropout\n",
    "from keras.callbacks import ModelCheckpoint\n",
    "from keras.losses import MeanSquaredError\n",
    "from keras.metrics import RootMeanSquaredError\n",
    "from keras.optimizers import Adam\n",
    "\n",
    "model1 = Sequential()\n",
    "\n",
    "# Adding the first LSTM layer and some Dropout regularisation\n",
    "model1.add(LSTM(units = 50, return_sequences = True, input_shape = (X_train.shape[1], 1)))\n",
    "model1.add(Dropout(0.2))\n",
    "\n",
    "# Adding a second LSTM layer and some Dropout regularisation\n",
    "model1.add(LSTM(units = 50, return_sequences = True))\n",
    "model1.add(Dropout(0.2))\n",
    "\n",
    "# Adding a third LSTM layer and some Dropout regularisation\n",
    "model1.add(LSTM(units = 50, return_sequences = True))\n",
    "model1.add(Dropout(0.2))\n",
    "\n",
    "# Adding a fourth LSTM layer and some Dropout regularisation\n",
    "model1.add(LSTM(units = 50))\n",
    "model1.add(Dropout(0.2))\n",
    "\n",
    "# Adding the output layer\n",
    "model1.add(Dense(units = 8))\n",
    "model1.add(Dense(units = 1))\n",
    "\n"
   ]
  },
  {
   "cell_type": "code",
   "execution_count": 373,
   "id": "675036e0",
   "metadata": {},
   "outputs": [
    {
     "name": "stdout",
     "output_type": "stream",
     "text": [
      "Model: \"sequential_10\"\n",
      "_________________________________________________________________\n",
      " Layer (type)                Output Shape              Param #   \n",
      "=================================================================\n",
      " lstm_36 (LSTM)              (None, 1440, 50)          10400     \n",
      "                                                                 \n",
      " dropout_36 (Dropout)        (None, 1440, 50)          0         \n",
      "                                                                 \n",
      " lstm_37 (LSTM)              (None, 1440, 50)          20200     \n",
      "                                                                 \n",
      " dropout_37 (Dropout)        (None, 1440, 50)          0         \n",
      "                                                                 \n",
      " lstm_38 (LSTM)              (None, 1440, 50)          20200     \n",
      "                                                                 \n",
      " dropout_38 (Dropout)        (None, 1440, 50)          0         \n",
      "                                                                 \n",
      " lstm_39 (LSTM)              (None, 50)                20200     \n",
      "                                                                 \n",
      " dropout_39 (Dropout)        (None, 50)                0         \n",
      "                                                                 \n",
      " dense_18 (Dense)            (None, 8)                 408       \n",
      "                                                                 \n",
      " dense_19 (Dense)            (None, 1)                 9         \n",
      "                                                                 \n",
      "=================================================================\n",
      "Total params: 71,417\n",
      "Trainable params: 71,417\n",
      "Non-trainable params: 0\n",
      "_________________________________________________________________\n"
     ]
    }
   ],
   "source": [
    "model1.summary()"
   ]
  },
  {
   "cell_type": "code",
   "execution_count": 374,
   "id": "a19f37db",
   "metadata": {},
   "outputs": [],
   "source": [
    "cp=ModelCheckpoint('model1/',save_best_only=True)\n",
    "# Compiling the RNN\n",
    "model1.compile(optimizer = Adam(), loss = MeanSquaredError(),metrics=[RootMeanSquaredError()])"
   ]
  },
  {
   "cell_type": "code",
   "execution_count": 375,
   "id": "86c705d1",
   "metadata": {
    "scrolled": true
   },
   "outputs": [
    {
     "name": "stdout",
     "output_type": "stream",
     "text": [
      "Epoch 1/10\n",
      "938/938 [==============================] - ETA: 0s - loss: 95.5129 - root_mean_squared_error: 9.7731"
     ]
    },
    {
     "name": "stderr",
     "output_type": "stream",
     "text": [
      "WARNING:absl:Found untraced functions such as lstm_cell_60_layer_call_fn, lstm_cell_60_layer_call_and_return_conditional_losses, lstm_cell_61_layer_call_fn, lstm_cell_61_layer_call_and_return_conditional_losses, lstm_cell_62_layer_call_fn while saving (showing 5 of 8). These functions will not be directly callable after loading.\n"
     ]
    },
    {
     "name": "stdout",
     "output_type": "stream",
     "text": [
      "INFO:tensorflow:Assets written to: model1\\assets\n"
     ]
    },
    {
     "name": "stderr",
     "output_type": "stream",
     "text": [
      "INFO:tensorflow:Assets written to: model1\\assets\n"
     ]
    },
    {
     "name": "stdout",
     "output_type": "stream",
     "text": [
      "938/938 [==============================] - 4063s 4s/step - loss: 95.5129 - root_mean_squared_error: 9.7731 - val_loss: 78.3877 - val_root_mean_squared_error: 8.8537\n",
      "Epoch 2/10\n",
      "938/938 [==============================] - ETA: 0s - loss: 94.3349 - root_mean_squared_error: 9.7126"
     ]
    },
    {
     "name": "stderr",
     "output_type": "stream",
     "text": [
      "WARNING:absl:Found untraced functions such as lstm_cell_60_layer_call_fn, lstm_cell_60_layer_call_and_return_conditional_losses, lstm_cell_61_layer_call_fn, lstm_cell_61_layer_call_and_return_conditional_losses, lstm_cell_62_layer_call_fn while saving (showing 5 of 8). These functions will not be directly callable after loading.\n"
     ]
    },
    {
     "name": "stdout",
     "output_type": "stream",
     "text": [
      "INFO:tensorflow:Assets written to: model1\\assets\n"
     ]
    },
    {
     "name": "stderr",
     "output_type": "stream",
     "text": [
      "INFO:tensorflow:Assets written to: model1\\assets\n"
     ]
    },
    {
     "name": "stdout",
     "output_type": "stream",
     "text": [
      "938/938 [==============================] - 4393s 5s/step - loss: 94.3349 - root_mean_squared_error: 9.7126 - val_loss: 75.2918 - val_root_mean_squared_error: 8.6771\n",
      "Epoch 3/10\n",
      "938/938 [==============================] - 4708s 5s/step - loss: 93.3083 - root_mean_squared_error: 9.6596 - val_loss: 75.3549 - val_root_mean_squared_error: 8.6807\n",
      "Epoch 4/10\n",
      "938/938 [==============================] - 4708s 5s/step - loss: 93.0650 - root_mean_squared_error: 9.6470 - val_loss: 75.6050 - val_root_mean_squared_error: 8.6951\n",
      "Epoch 5/10\n",
      "938/938 [==============================] - ETA: 0s - loss: 93.1438 - root_mean_squared_error: 9.6511"
     ]
    },
    {
     "name": "stderr",
     "output_type": "stream",
     "text": [
      "WARNING:absl:Found untraced functions such as lstm_cell_60_layer_call_fn, lstm_cell_60_layer_call_and_return_conditional_losses, lstm_cell_61_layer_call_fn, lstm_cell_61_layer_call_and_return_conditional_losses, lstm_cell_62_layer_call_fn while saving (showing 5 of 8). These functions will not be directly callable after loading.\n"
     ]
    },
    {
     "name": "stdout",
     "output_type": "stream",
     "text": [
      "INFO:tensorflow:Assets written to: model1\\assets\n"
     ]
    },
    {
     "name": "stderr",
     "output_type": "stream",
     "text": [
      "INFO:tensorflow:Assets written to: model1\\assets\n"
     ]
    },
    {
     "name": "stdout",
     "output_type": "stream",
     "text": [
      "938/938 [==============================] - 4733s 5s/step - loss: 93.1438 - root_mean_squared_error: 9.6511 - val_loss: 75.0406 - val_root_mean_squared_error: 8.6626\n",
      "Epoch 6/10\n",
      "938/938 [==============================] - ETA: 0s - loss: 92.8421 - root_mean_squared_error: 9.6355"
     ]
    },
    {
     "name": "stderr",
     "output_type": "stream",
     "text": [
      "WARNING:absl:Found untraced functions such as lstm_cell_60_layer_call_fn, lstm_cell_60_layer_call_and_return_conditional_losses, lstm_cell_61_layer_call_fn, lstm_cell_61_layer_call_and_return_conditional_losses, lstm_cell_62_layer_call_fn while saving (showing 5 of 8). These functions will not be directly callable after loading.\n"
     ]
    },
    {
     "name": "stdout",
     "output_type": "stream",
     "text": [
      "INFO:tensorflow:Assets written to: model1\\assets\n"
     ]
    },
    {
     "name": "stderr",
     "output_type": "stream",
     "text": [
      "INFO:tensorflow:Assets written to: model1\\assets\n"
     ]
    },
    {
     "name": "stdout",
     "output_type": "stream",
     "text": [
      "938/938 [==============================] - 4092s 4s/step - loss: 92.8421 - root_mean_squared_error: 9.6355 - val_loss: 74.5653 - val_root_mean_squared_error: 8.6351\n",
      "Epoch 7/10\n",
      "938/938 [==============================] - ETA: 0s - loss: 92.7959 - root_mean_squared_error: 9.6331"
     ]
    },
    {
     "name": "stderr",
     "output_type": "stream",
     "text": [
      "WARNING:absl:Found untraced functions such as lstm_cell_60_layer_call_fn, lstm_cell_60_layer_call_and_return_conditional_losses, lstm_cell_61_layer_call_fn, lstm_cell_61_layer_call_and_return_conditional_losses, lstm_cell_62_layer_call_fn while saving (showing 5 of 8). These functions will not be directly callable after loading.\n"
     ]
    },
    {
     "name": "stdout",
     "output_type": "stream",
     "text": [
      "INFO:tensorflow:Assets written to: model1\\assets\n"
     ]
    },
    {
     "name": "stderr",
     "output_type": "stream",
     "text": [
      "INFO:tensorflow:Assets written to: model1\\assets\n"
     ]
    },
    {
     "name": "stdout",
     "output_type": "stream",
     "text": [
      "938/938 [==============================] - 4183s 4s/step - loss: 92.7959 - root_mean_squared_error: 9.6331 - val_loss: 73.4758 - val_root_mean_squared_error: 8.5718\n",
      "Epoch 8/10\n",
      "938/938 [==============================] - 4160s 4s/step - loss: 92.6858 - root_mean_squared_error: 9.6273 - val_loss: 73.6341 - val_root_mean_squared_error: 8.5810\n",
      "Epoch 9/10\n",
      "938/938 [==============================] - 4153s 4s/step - loss: 92.4931 - root_mean_squared_error: 9.6173 - val_loss: 74.9195 - val_root_mean_squared_error: 8.6556\n",
      "Epoch 10/10\n",
      "938/938 [==============================] - 4153s 4s/step - loss: 92.7193 - root_mean_squared_error: 9.6291 - val_loss: 73.8922 - val_root_mean_squared_error: 8.5961\n"
     ]
    },
    {
     "data": {
      "text/plain": [
       "<keras.callbacks.History at 0x1f5e30255e0>"
      ]
     },
     "execution_count": 375,
     "metadata": {},
     "output_type": "execute_result"
    }
   ],
   "source": [
    "model1.fit(X_train, y_train, validation_data=(X_val,y_val), epochs = 10, callbacks=[cp])"
   ]
  },
  {
   "cell_type": "code",
   "execution_count": 376,
   "id": "fb6b64c8",
   "metadata": {},
   "outputs": [],
   "source": [
    "from keras.models import load_model\n",
    "model1=load_model('model1/')"
   ]
  },
  {
   "cell_type": "code",
   "execution_count": 377,
   "id": "0e0af5cb",
   "metadata": {},
   "outputs": [
    {
     "name": "stdout",
     "output_type": "stream",
     "text": [
      "938/938 [==============================] - 1118s 1s/step\n"
     ]
    },
    {
     "data": {
      "text/html": [
       "<div>\n",
       "<style scoped>\n",
       "    .dataframe tbody tr th:only-of-type {\n",
       "        vertical-align: middle;\n",
       "    }\n",
       "\n",
       "    .dataframe tbody tr th {\n",
       "        vertical-align: top;\n",
       "    }\n",
       "\n",
       "    .dataframe thead th {\n",
       "        text-align: right;\n",
       "    }\n",
       "</style>\n",
       "<table border=\"1\" class=\"dataframe\">\n",
       "  <thead>\n",
       "    <tr style=\"text-align: right;\">\n",
       "      <th></th>\n",
       "      <th>Train Predictions</th>\n",
       "      <th>Actuals</th>\n",
       "    </tr>\n",
       "  </thead>\n",
       "  <tbody>\n",
       "    <tr>\n",
       "      <th>0</th>\n",
       "      <td>1.694151</td>\n",
       "      <td>0.0</td>\n",
       "    </tr>\n",
       "    <tr>\n",
       "      <th>1</th>\n",
       "      <td>1.443411</td>\n",
       "      <td>0.0</td>\n",
       "    </tr>\n",
       "    <tr>\n",
       "      <th>2</th>\n",
       "      <td>1.201495</td>\n",
       "      <td>0.0</td>\n",
       "    </tr>\n",
       "    <tr>\n",
       "      <th>3</th>\n",
       "      <td>0.975488</td>\n",
       "      <td>0.0</td>\n",
       "    </tr>\n",
       "    <tr>\n",
       "      <th>4</th>\n",
       "      <td>0.773650</td>\n",
       "      <td>0.0</td>\n",
       "    </tr>\n",
       "    <tr>\n",
       "      <th>...</th>\n",
       "      <td>...</td>\n",
       "      <td>...</td>\n",
       "    </tr>\n",
       "    <tr>\n",
       "      <th>29995</th>\n",
       "      <td>2.681260</td>\n",
       "      <td>0.0</td>\n",
       "    </tr>\n",
       "    <tr>\n",
       "      <th>29996</th>\n",
       "      <td>2.549877</td>\n",
       "      <td>0.0</td>\n",
       "    </tr>\n",
       "    <tr>\n",
       "      <th>29997</th>\n",
       "      <td>2.355234</td>\n",
       "      <td>0.0</td>\n",
       "    </tr>\n",
       "    <tr>\n",
       "      <th>29998</th>\n",
       "      <td>2.138957</td>\n",
       "      <td>1.0</td>\n",
       "    </tr>\n",
       "    <tr>\n",
       "      <th>29999</th>\n",
       "      <td>2.168888</td>\n",
       "      <td>0.8</td>\n",
       "    </tr>\n",
       "  </tbody>\n",
       "</table>\n",
       "<p>30000 rows × 2 columns</p>\n",
       "</div>"
      ],
      "text/plain": [
       "       Train Predictions  Actuals\n",
       "0               1.694151      0.0\n",
       "1               1.443411      0.0\n",
       "2               1.201495      0.0\n",
       "3               0.975488      0.0\n",
       "4               0.773650      0.0\n",
       "...                  ...      ...\n",
       "29995           2.681260      0.0\n",
       "29996           2.549877      0.0\n",
       "29997           2.355234      0.0\n",
       "29998           2.138957      1.0\n",
       "29999           2.168888      0.8\n",
       "\n",
       "[30000 rows x 2 columns]"
      ]
     },
     "execution_count": 377,
     "metadata": {},
     "output_type": "execute_result"
    }
   ],
   "source": [
    "train_prediction=model1.predict(X_train).flatten()\n",
    "train_results=pd.DataFrame(data={'Train Predictions':train_prediction,'Actuals':y_train})\n",
    "train_results"
   ]
  },
  {
   "cell_type": "code",
   "execution_count": 378,
   "id": "1e608c83",
   "metadata": {},
   "outputs": [
    {
     "data": {
      "text/plain": [
       "[<matplotlib.lines.Line2D at 0x1f620b8dca0>]"
      ]
     },
     "execution_count": 378,
     "metadata": {},
     "output_type": "execute_result"
    },
    {
     "data": {
      "image/png": "[encoded data removed]",
      "text/plain": [
       "<Figure size 1440x720 with 1 Axes>"
      ]
     },
     "metadata": {},
     "output_type": "display_data"
    }
   ],
   "source": [
    "plt.plot(train_results['Train Predictions'][:1000])\n",
    "plt.plot(train_results['Actuals'][:1000])"
   ]
  },
  {
   "cell_type": "code",
   "execution_count": null,
   "id": "2dd73e23",
   "metadata": {},
   "outputs": [],
   "source": []
  }
 ],
 "metadata": {
  "kernelspec": {
   "display_name": "Python 3 (ipykernel)",
   "language": "python",
   "name": "python3"
  },
  "language_info": {
   "codemirror_mode": {
    "name": "ipython",
    "version": 3
   },
   "file_extension": ".py",
   "mimetype": "text/x-python",
   "name": "python",
   "nbconvert_exporter": "python",
   "pygments_lexer": "ipython3",
   "version": "3.9.12"
  }
 },
 "nbformat": 4,
 "nbformat_minor": 5
}
