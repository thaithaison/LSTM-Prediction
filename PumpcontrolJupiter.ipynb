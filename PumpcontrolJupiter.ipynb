{
 "cells": [
  {
   "cell_type": "code",
   "execution_count": 2,
   "id": "4a152b5f",
   "metadata": {
    "pycharm": {
     "name": "#%%\n"
    }
   },
   "outputs": [],
   "source": [
    "import numpy as np # linear algebra\n",
    "import pandas as pd # data processing, CSV file I/O (e.g. pd.read_csv)\n",
    "import warnings\n",
    "warnings.filterwarnings(\"ignore\") # hide warnings"
   ]
  },
  {
   "cell_type": "code",
   "execution_count": 3,
   "id": "c7f84f19",
   "metadata": {
    "pycharm": {
     "name": "#%%\n"
    }
   },
   "outputs": [],
   "source": [
    "import pandas as pd\n",
    "import numpy as np\n",
    "import matplotlib.pyplot as plt\n",
    "import seaborn as sns\n",
    "import pprint\n",
    "%matplotlib inline\n",
    "from datetime import datetime"
   ]
  },
  {
   "cell_type": "code",
   "execution_count": 4,
   "id": "abbf7f5d",
   "metadata": {
    "pycharm": {
     "name": "#%%\n"
    },
    "scrolled": true
   },
   "outputs": [
    {
     "name": "stdout",
     "output_type": "stream",
     "text": [
      "==================================================\n",
      "First Five Rows  \n",
      "\n",
      "              Time  Flowrate (l/min)\n",
      "0  2022-01-01 0:00               0.0\n",
      "1  2022-01-01 0:15               0.0\n",
      "2  2022-01-01 0:30               0.0\n",
      "3  2022-01-01 0:45               0.0\n",
      "4  2022-01-01 1:00               0.0 \n",
      "\n",
      "==================================================\n",
      "Information About Dataset \n",
      "\n",
      "<class 'pandas.core.frame.DataFrame'>\n",
      "RangeIndex: 35040 entries, 0 to 35039\n",
      "Data columns (total 2 columns):\n",
      " #   Column            Non-Null Count  Dtype  \n",
      "---  ------            --------------  -----  \n",
      " 0   Time              35040 non-null  object \n",
      " 1   Flowrate (l/min)  35040 non-null  float64\n",
      "dtypes: float64(1), object(1)\n",
      "memory usage: 547.6+ KB\n",
      "None \n",
      "\n",
      "==================================================\n",
      "Describe the Dataset  \n",
      "\n",
      "       Flowrate (l/min)\n",
      "count      35040.000000\n",
      "mean           3.125000\n",
      "std            9.793984\n",
      "min            0.000000\n",
      "25%            0.000000\n",
      "50%            0.000000\n",
      "75%            2.200000\n",
      "max          214.800000 \n",
      "\n",
      "==================================================\n",
      "Null Values t  \n",
      "\n",
      "Time                0\n",
      "Flowrate (l/min)    0\n",
      "dtype: int64 \n",
      "\n"
     ]
    }
   ],
   "source": [
    "df = pd.read_csv(\"15mindataCSV.csv\")\n",
    "print(\"=\"*50)\n",
    "print(\"First Five Rows \",\"\\n\")\n",
    "print(df.head(5),\"\\n\")\n",
    "\n",
    "print(\"=\"*50)\n",
    "print(\"Information About Dataset\",\"\\n\")\n",
    "print(df.info(),\"\\n\")\n",
    "\n",
    "print(\"=\"*50)\n",
    "print(\"Describe the Dataset \",\"\\n\")\n",
    "print(df.describe(),\"\\n\")\n",
    "\n",
    "print(\"=\"*50)\n",
    "print(\"Null Values t \",\"\\n\")\n",
    "print(df.isnull().sum(),\"\\n\")"
   ]
  },
  {
   "cell_type": "code",
   "execution_count": 5,
   "id": "78da4e9a",
   "metadata": {
    "pycharm": {
     "name": "#%%\n"
    }
   },
   "outputs": [
    {
     "name": "stdout",
     "output_type": "stream",
     "text": [
      "                     Flowrate (l/min)  Month  Year        Date      Hour  \\\n",
      "Time                                                                       \n",
      "2022-01-01 00:00:00               0.0      1  2022  2022-01-01  00:00:00   \n",
      "2022-01-01 00:15:00               0.0      1  2022  2022-01-01  00:15:00   \n",
      "2022-01-01 00:30:00               0.0      1  2022  2022-01-01  00:30:00   \n",
      "2022-01-01 00:45:00               0.0      1  2022  2022-01-01  00:45:00   \n",
      "2022-01-01 01:00:00               0.0      1  2022  2022-01-01  01:00:00   \n",
      "...                               ...    ...   ...         ...       ...   \n",
      "2022-12-31 20:15:00               0.0     12  2022  2022-12-31  20:15:00   \n",
      "2022-12-31 20:30:00               3.6     12  2022  2022-12-31  20:30:00   \n",
      "2022-12-31 20:45:00               0.0     12  2022  2022-12-31  20:45:00   \n",
      "2022-12-31 21:00:00               5.8     12  2022  2022-12-31  21:00:00   \n",
      "2022-12-31 21:15:00              11.4     12  2022  2022-12-31  21:15:00   \n",
      "\n",
      "                     Week       Day  \n",
      "Time                                 \n",
      "2022-01-01 00:00:00    52  Saturday  \n",
      "2022-01-01 00:15:00    52  Saturday  \n",
      "2022-01-01 00:30:00    52  Saturday  \n",
      "2022-01-01 00:45:00    52  Saturday  \n",
      "2022-01-01 01:00:00    52  Saturday  \n",
      "...                   ...       ...  \n",
      "2022-12-31 20:15:00    52  Saturday  \n",
      "2022-12-31 20:30:00    52  Saturday  \n",
      "2022-12-31 20:45:00    52  Saturday  \n",
      "2022-12-31 21:00:00    52  Saturday  \n",
      "2022-12-31 21:15:00    52  Saturday  \n",
      "\n",
      "[35030 rows x 7 columns]\n",
      "<class 'pandas.core.frame.DataFrame'>\n",
      "RangeIndex: 35040 entries, 0 to 35039\n",
      "Data columns (total 8 columns):\n",
      " #   Column            Non-Null Count  Dtype  \n",
      "---  ------            --------------  -----  \n",
      " 0   Time              35040 non-null  object \n",
      " 1   Flowrate (l/min)  35040 non-null  float64\n",
      " 2   Month             35040 non-null  int64  \n",
      " 3   Year              35040 non-null  int64  \n",
      " 4   Date              35040 non-null  object \n",
      " 5   Hour              35040 non-null  object \n",
      " 6   Week              35040 non-null  int64  \n",
      " 7   Day               35040 non-null  object \n",
      "dtypes: float64(1), int64(3), object(4)\n",
      "memory usage: 2.1+ MB\n",
      "None \n",
      "\n"
     ]
    }
   ],
   "source": [
    "# Extract all Data Like Year MOnth Day Time etc\n",
    "dataset = df\n",
    "dataset[\"Month\"] = pd.to_datetime(df[\"Time\"]).dt.month\n",
    "dataset[\"Year\"] = pd.to_datetime(df[\"Time\"]).dt.year\n",
    "dataset[\"Date\"] = pd.to_datetime(df[\"Time\"]).dt.date\n",
    "dataset[\"Hour\"] = pd.to_datetime(df[\"Time\"]).dt.time\n",
    "dataset[\"Week\"] = pd.to_datetime(df[\"Time\"]).dt.week\n",
    "dataset[\"Day\"] = pd.to_datetime(df[\"Time\"]).dt.day_name()\n",
    "dataset = df.set_index(\"Time\")\n",
    "dataset.index = pd.to_datetime(dataset.index)\n",
    "#dataset[\"Time\"] = pd.to_datetime(df[\"Time\"]).dt.strftime(\"%Y %m %d %H %M\")\n",
    "print(dataset.head(-10))\n",
    "print(df.info(),\"\\n\")"
   ]
  },
  {
   "cell_type": "code",
   "execution_count": 26,
   "id": "7c2ca724",
   "metadata": {
    "pycharm": {
     "name": "#%%\n"
    },
    "scrolled": true
   },
   "outputs": [
    {
     "name": "stderr",
     "output_type": "stream",
     "text": [
      "WARNING:matplotlib.legend:No artists with labels found to put in legend.  Note that artists whose label start with an underscore are ignored when legend() is called with no argument.\n"
     ]
    },
    {
     "data": {
      "text/plain": [
       "Text(0.5, 1.0, 'January DHW demand')"
      ]
     },
     "execution_count": 26,
     "metadata": {},
     "output_type": "execute_result"
    },
    {
     "data": {
      "image/png": "[encoded data removed]",
      "text/plain": [
       "<Figure size 1440x720 with 1 Axes>"
      ]
     },
     "metadata": {},
     "output_type": "display_data"
    }
   ],
   "source": [
    "#Data Visualizations\n",
    "from matplotlib import style\n",
    "\n",
    "fig = plt.figure()\n",
    "ax1 = plt.subplot2grid((1,1), (0,0))\n",
    "\n",
    "style.use('ggplot')\n",
    "\n",
    "january=df.query(\"Month == 1\")\n",
    "\n",
    "sns.lineplot(data=january, x=january[\"Date\"], y=january[\"Flowrate (l/min)\"])\n",
    "sns.set(rc={'figure.figsize':(10,5)})\n",
    "\n",
    "plt.title(\"DHW demand\")\n",
    "plt.xlabel(\"Date\")\n",
    "plt.ylabel(\"Flowrate in l/min\")\n",
    "plt.grid(True)\n",
    "plt.legend()\n",
    "\n",
    "#for label in ax1.xaxis.get_ticklabels():\n",
    "   # label.set_rotation(90)\n",
    "\n",
    "\n",
    "plt.title(\"January DHW demand\")\n"
   ]
  },
  {
   "cell_type": "code",
   "execution_count": 22,
   "id": "e9f3a21a",
   "metadata": {
    "pycharm": {
     "name": "#%%\n"
    }
   },
   "outputs": [
    {
     "data": {
      "image/png": "[encoded data removed]",
      "text/plain": [
       "<Figure size 1440x720 with 1 Axes>"
      ]
     },
     "metadata": {},
     "output_type": "display_data"
    }
   ],
   "source": [
    "from matplotlib import style\n",
    "import matplotlib.dates as md\n",
    "\n",
    "fig = plt.figure()\n",
    "\n",
    "ax1= fig.add_subplot(311)\n",
    "\n",
    "\n",
    "style.use('ggplot')\n",
    "\n",
    "January  = dataset.iloc[:,0:1]\n",
    "January = January.loc['20220101':'20220101']\n",
    "\n",
    "#plt.plot(January.index,January[\"Flowrate (l/min)\"],  linewidth=2)\n",
    "plt.bar(January.index,January[\"Flowrate (l/min)\"],width=0.01)\n",
    "\n",
    "plt.rcParams[\"figure.figsize\"] = (20,10)\n",
    "plt.title(\"Hot water consumtion on January 1st\")\n",
    "plt.xlabel(\"Time\")\n",
    "plt.ylabel(\"Flow rate in l/h\")\n",
    "plt.grid(True, alpha=1)\n",
    "ax1.xaxis.set_major_locator(md.MinuteLocator(byminute = [0, 120]))\n",
    "ax1.xaxis.set_major_formatter(md.DateFormatter('%H:%M'))\n",
    "\n",
    "#for label in ax1.xaxis.get_ticklabels():\n",
    "    #label.set_rotation(90)\n",
    "\n"
   ]
  },
  {
   "cell_type": "code",
   "execution_count": 9,
   "id": "a1599aa5",
   "metadata": {
    "pycharm": {
     "name": "#%%\n"
    }
   },
   "outputs": [
    {
     "name": "stdout",
     "output_type": "stream",
     "text": [
      "Old Dataset  (35040, 7)\n",
      "New  Dataset  (35040, 4)\n"
     ]
    },
    {
     "data": {
      "text/html": [
       "<div>\n",
       "<style scoped>\n",
       "    .dataframe tbody tr th:only-of-type {\n",
       "        vertical-align: middle;\n",
       "    }\n",
       "\n",
       "    .dataframe tbody tr th {\n",
       "        vertical-align: top;\n",
       "    }\n",
       "\n",
       "    .dataframe thead th {\n",
       "        text-align: right;\n",
       "    }\n",
       "</style>\n",
       "<table border=\"1\" class=\"dataframe\">\n",
       "  <thead>\n",
       "    <tr style=\"text-align: right;\">\n",
       "      <th></th>\n",
       "      <th>Flowrate (l/min)</th>\n",
       "      <th>Month</th>\n",
       "      <th>Year</th>\n",
       "      <th>Week</th>\n",
       "    </tr>\n",
       "    <tr>\n",
       "      <th>Time</th>\n",
       "      <th></th>\n",
       "      <th></th>\n",
       "      <th></th>\n",
       "      <th></th>\n",
       "    </tr>\n",
       "  </thead>\n",
       "  <tbody>\n",
       "    <tr>\n",
       "      <th>2022-01-01 00:00:00</th>\n",
       "      <td>0.0</td>\n",
       "      <td>1.0</td>\n",
       "      <td>2022.0</td>\n",
       "      <td>52.0</td>\n",
       "    </tr>\n",
       "    <tr>\n",
       "      <th>2022-01-01 00:15:00</th>\n",
       "      <td>0.0</td>\n",
       "      <td>1.0</td>\n",
       "      <td>2022.0</td>\n",
       "      <td>52.0</td>\n",
       "    </tr>\n",
       "    <tr>\n",
       "      <th>2022-01-01 00:30:00</th>\n",
       "      <td>0.0</td>\n",
       "      <td>1.0</td>\n",
       "      <td>2022.0</td>\n",
       "      <td>52.0</td>\n",
       "    </tr>\n",
       "    <tr>\n",
       "      <th>2022-01-01 00:45:00</th>\n",
       "      <td>0.0</td>\n",
       "      <td>1.0</td>\n",
       "      <td>2022.0</td>\n",
       "      <td>52.0</td>\n",
       "    </tr>\n",
       "    <tr>\n",
       "      <th>2022-01-01 01:00:00</th>\n",
       "      <td>0.0</td>\n",
       "      <td>1.0</td>\n",
       "      <td>2022.0</td>\n",
       "      <td>52.0</td>\n",
       "    </tr>\n",
       "    <tr>\n",
       "      <th>...</th>\n",
       "      <td>...</td>\n",
       "      <td>...</td>\n",
       "      <td>...</td>\n",
       "      <td>...</td>\n",
       "    </tr>\n",
       "    <tr>\n",
       "      <th>2022-12-31 22:45:00</th>\n",
       "      <td>0.0</td>\n",
       "      <td>12.0</td>\n",
       "      <td>2022.0</td>\n",
       "      <td>52.0</td>\n",
       "    </tr>\n",
       "    <tr>\n",
       "      <th>2022-12-31 23:00:00</th>\n",
       "      <td>0.0</td>\n",
       "      <td>12.0</td>\n",
       "      <td>2022.0</td>\n",
       "      <td>52.0</td>\n",
       "    </tr>\n",
       "    <tr>\n",
       "      <th>2022-12-31 23:15:00</th>\n",
       "      <td>0.0</td>\n",
       "      <td>12.0</td>\n",
       "      <td>2022.0</td>\n",
       "      <td>52.0</td>\n",
       "    </tr>\n",
       "    <tr>\n",
       "      <th>2022-12-31 23:30:00</th>\n",
       "      <td>0.0</td>\n",
       "      <td>12.0</td>\n",
       "      <td>2022.0</td>\n",
       "      <td>52.0</td>\n",
       "    </tr>\n",
       "    <tr>\n",
       "      <th>2022-12-31 23:45:00</th>\n",
       "      <td>0.0</td>\n",
       "      <td>12.0</td>\n",
       "      <td>2022.0</td>\n",
       "      <td>52.0</td>\n",
       "    </tr>\n",
       "  </tbody>\n",
       "</table>\n",
       "<p>35040 rows × 4 columns</p>\n",
       "</div>"
      ],
      "text/plain": [
       "                     Flowrate (l/min)  Month    Year  Week\n",
       "Time                                                      \n",
       "2022-01-01 00:00:00               0.0    1.0  2022.0  52.0\n",
       "2022-01-01 00:15:00               0.0    1.0  2022.0  52.0\n",
       "2022-01-01 00:30:00               0.0    1.0  2022.0  52.0\n",
       "2022-01-01 00:45:00               0.0    1.0  2022.0  52.0\n",
       "2022-01-01 01:00:00               0.0    1.0  2022.0  52.0\n",
       "...                               ...    ...     ...   ...\n",
       "2022-12-31 22:45:00               0.0   12.0  2022.0  52.0\n",
       "2022-12-31 23:00:00               0.0   12.0  2022.0  52.0\n",
       "2022-12-31 23:15:00               0.0   12.0  2022.0  52.0\n",
       "2022-12-31 23:30:00               0.0   12.0  2022.0  52.0\n",
       "2022-12-31 23:45:00               0.0   12.0  2022.0  52.0\n",
       "\n",
       "[35040 rows x 4 columns]"
      ]
     },
     "execution_count": 9,
     "metadata": {},
     "output_type": "execute_result"
    }
   ],
   "source": [
    "NewDataSet = dataset.resample('900s').mean()\n",
    "print(\"Old Dataset \",dataset.shape )\n",
    "print(\"New  Dataset \",NewDataSet.shape)\n",
    "NewDataSet\n",
    "\n",
    "#TestData,Training_Set,Training_Set"
   ]
  },
  {
   "cell_type": "code",
   "execution_count": 10,
   "id": "5d4ecf02",
   "metadata": {},
   "outputs": [
    {
     "name": "stdout",
     "output_type": "stream",
     "text": [
      "Training Set Shape  (33600, 1)\n",
      "Test Set Shape  (1440, 4)\n"
     ]
    }
   ],
   "source": [
    "TestData = NewDataSet.tail(1440) #15 days test\n",
    "Training_Set = NewDataSet.iloc[:,0:1]\n",
    "Training_Set = Training_Set[:-1440]\n",
    "print(\"Training Set Shape \", Training_Set.shape)\n",
    "print(\"Test Set Shape \", TestData.shape)"
   ]
  },
  {
   "cell_type": "code",
   "execution_count": 11,
   "id": "92355da9",
   "metadata": {},
   "outputs": [
    {
     "data": {
      "text/plain": [
       "array([[0.],\n",
       "       [0.],\n",
       "       [0.],\n",
       "       ...,\n",
       "       [0.],\n",
       "       [0.],\n",
       "       [0.]])"
      ]
     },
     "execution_count": 11,
     "metadata": {},
     "output_type": "execute_result"
    }
   ],
   "source": [
    "from sklearn.preprocessing import MinMaxScaler\n",
    "\n",
    "sc = MinMaxScaler(feature_range=(0, 1))\n",
    "Train = sc.fit_transform(Training_Set)\n",
    "Train"
   ]
  },
  {
   "cell_type": "code",
   "execution_count": 12,
   "id": "10670c74",
   "metadata": {},
   "outputs": [
    {
     "name": "stdout",
     "output_type": "stream",
     "text": [
      "(32928, 672, 1)\n",
      "(32928, 1)\n"
     ]
    }
   ],
   "source": [
    "X_Train = []\n",
    "Y_Train = []\n",
    "\n",
    "# Range should be fromm 672 Values to END (1 week data)\n",
    "for i in range(672, Train.shape[0]):\n",
    "    \n",
    "    # X_Train 0-671\n",
    "    X_Train.append(Train[i-672:i])\n",
    "    \n",
    "    # Y Would be 672 th Value based on past 672 Values \n",
    "    Y_Train.append(Train[i])\n",
    "\n",
    "# Convert into Numpy Array\n",
    "X_Train = np.array(X_Train)\n",
    "Y_Train = np.array(Y_Train)\n",
    "\n",
    "print(X_Train.shape)\n",
    "print(Y_Train.shape)"
   ]
  },
  {
   "cell_type": "code",
   "execution_count": 13,
   "id": "bf2b2f64",
   "metadata": {},
   "outputs": [],
   "source": [
    "from keras.models import Sequential\n",
    "from keras.layers import Dense\n",
    "from keras.layers import LSTM\n",
    "from keras.layers import Dropout\n",
    "regressor = Sequential()\n",
    "\n",
    "# Adding the first LSTM layer and some Dropout regularisation\n",
    "regressor.add(LSTM(units = 50, return_sequences = True, input_shape = (X_Train.shape[1], 1)))\n",
    "regressor.add(Dropout(0.2))\n",
    "\n",
    "# Adding a second LSTM layer and some Dropout regularisation\n",
    "regressor.add(LSTM(units = 50, return_sequences = True))\n",
    "regressor.add(Dropout(0.2))\n",
    "\n",
    "# Adding a third LSTM layer and some Dropout regularisation\n",
    "regressor.add(LSTM(units = 50, return_sequences = True))\n",
    "regressor.add(Dropout(0.2))\n",
    "\n",
    "# Adding a fourth LSTM layer and some Dropout regularisation\n",
    "regressor.add(LSTM(units = 50))\n",
    "regressor.add(Dropout(0.2))\n",
    "\n",
    "# Adding the output layer\n",
    "regressor.add(Dense(units = 1))\n",
    "# Compiling the RNN\n",
    "regressor.compile(optimizer = 'adam', loss = 'mean_squared_error')"
   ]
  },
  {
   "cell_type": "code",
   "execution_count": 14,
   "id": "86c705d1",
   "metadata": {
    "scrolled": true
   },
   "outputs": [
    {
     "name": "stdout",
     "output_type": "stream",
     "text": [
      "Epoch 1/20\n",
      "1029/1029 [==============================] - 481s 462ms/step - loss: 0.0021\n",
      "Epoch 2/20\n",
      "1029/1029 [==============================] - 481s 468ms/step - loss: 0.0021\n",
      "Epoch 3/20\n",
      "1029/1029 [==============================] - 476s 463ms/step - loss: 0.0020\n",
      "Epoch 4/20\n",
      "1029/1029 [==============================] - 474s 461ms/step - loss: 0.0020\n",
      "Epoch 5/20\n",
      "1029/1029 [==============================] - 469s 456ms/step - loss: 0.0020\n",
      "Epoch 6/20\n",
      "1029/1029 [==============================] - 486s 472ms/step - loss: 0.0020\n",
      "Epoch 7/20\n",
      "1029/1029 [==============================] - 483s 469ms/step - loss: 0.0020\n",
      "Epoch 8/20\n",
      "1029/1029 [==============================] - 495s 481ms/step - loss: 0.0020\n",
      "Epoch 9/20\n",
      "1029/1029 [==============================] - 487s 473ms/step - loss: 0.0020\n",
      "Epoch 10/20\n",
      "1029/1029 [==============================] - 485s 471ms/step - loss: 0.0020\n",
      "Epoch 11/20\n",
      "1029/1029 [==============================] - 495s 481ms/step - loss: 0.0020\n",
      "Epoch 12/20\n",
      "1029/1029 [==============================] - 492s 478ms/step - loss: 0.0020\n",
      "Epoch 13/20\n",
      "1029/1029 [==============================] - 493s 479ms/step - loss: 0.0020\n",
      "Epoch 14/20\n",
      "1029/1029 [==============================] - 490s 476ms/step - loss: 0.0020\n",
      "Epoch 15/20\n",
      "1029/1029 [==============================] - 495s 481ms/step - loss: 0.0020\n",
      "Epoch 16/20\n",
      "1029/1029 [==============================] - 491s 478ms/step - loss: 0.0020\n",
      "Epoch 17/20\n",
      "1029/1029 [==============================] - 483s 469ms/step - loss: 0.0020\n",
      "Epoch 18/20\n",
      "1029/1029 [==============================] - 485s 471ms/step - loss: 0.0020\n",
      "Epoch 19/20\n",
      "1029/1029 [==============================] - 490s 476ms/step - loss: 0.0020\n",
      "Epoch 20/20\n",
      "1029/1029 [==============================] - 498s 484ms/step - loss: 0.0020\n"
     ]
    },
    {
     "data": {
      "text/plain": [
       "<keras.callbacks.History at 0x2778adace80>"
      ]
     },
     "execution_count": 14,
     "metadata": {},
     "output_type": "execute_result"
    }
   ],
   "source": [
    "regressor.fit(X_Train, Y_Train, epochs = 20, batch_size = 32)"
   ]
  },
  {
   "cell_type": "code",
   "execution_count": 15,
   "id": "06428322",
   "metadata": {},
   "outputs": [
    {
     "name": "stderr",
     "output_type": "stream",
     "text": [
      "WARNING:absl:Found untraced functions such as lstm_cell_layer_call_fn, lstm_cell_layer_call_and_return_conditional_losses, lstm_cell_1_layer_call_fn, lstm_cell_1_layer_call_and_return_conditional_losses, lstm_cell_2_layer_call_fn while saving (showing 5 of 8). These functions will not be directly callable after loading.\n"
     ]
    },
    {
     "name": "stdout",
     "output_type": "stream",
     "text": [
      "INFO:tensorflow:Assets written to: ram://732daac3-1adb-4437-89b4-9328d3dd1481/assets\n"
     ]
    },
    {
     "name": "stderr",
     "output_type": "stream",
     "text": [
      "INFO:tensorflow:Assets written to: ram://732daac3-1adb-4437-89b4-9328d3dd1481/assets\n"
     ]
    }
   ],
   "source": [
    "#from keras.models import load_model\n",
    "#regressor.save('TrainedModel.h5')  # creates a HDF5 file 'my_model.h5'\n",
    "#regressor = load_model('TrainedModel.h5')\n",
    "#del model  # deletes the existing model\n",
    "\n",
    "import pickle\n",
    "# save the model to disk\n",
    "filename = 'Trained_model.h5'\n",
    "pickle.dump(regressor, open(filename, 'wb'))\n",
    " \n",
    "# load the model from disk\n",
    "#loaded_model = pickle.load(open(Trained_model.sav, 'rb'))\n",
    "#result = loaded_model.score(X_test, Y_test)"
   ]
  },
  {
   "cell_type": "code",
   "execution_count": 16,
   "id": "fb6b64c8",
   "metadata": {},
   "outputs": [
    {
     "data": {
      "text/html": [
       "<div>\n",
       "<style scoped>\n",
       "    .dataframe tbody tr th:only-of-type {\n",
       "        vertical-align: middle;\n",
       "    }\n",
       "\n",
       "    .dataframe tbody tr th {\n",
       "        vertical-align: top;\n",
       "    }\n",
       "\n",
       "    .dataframe thead th {\n",
       "        text-align: right;\n",
       "    }\n",
       "</style>\n",
       "<table border=\"1\" class=\"dataframe\">\n",
       "  <thead>\n",
       "    <tr style=\"text-align: right;\">\n",
       "      <th></th>\n",
       "      <th>Flowrate (l/min)</th>\n",
       "      <th>Month</th>\n",
       "      <th>Year</th>\n",
       "      <th>Week</th>\n",
       "    </tr>\n",
       "    <tr>\n",
       "      <th>Time</th>\n",
       "      <th></th>\n",
       "      <th></th>\n",
       "      <th></th>\n",
       "      <th></th>\n",
       "    </tr>\n",
       "  </thead>\n",
       "  <tbody>\n",
       "    <tr>\n",
       "      <th>2022-12-17 00:00:00</th>\n",
       "      <td>0.0</td>\n",
       "      <td>12.0</td>\n",
       "      <td>2022.0</td>\n",
       "      <td>50.0</td>\n",
       "    </tr>\n",
       "    <tr>\n",
       "      <th>2022-12-17 00:15:00</th>\n",
       "      <td>0.0</td>\n",
       "      <td>12.0</td>\n",
       "      <td>2022.0</td>\n",
       "      <td>50.0</td>\n",
       "    </tr>\n",
       "    <tr>\n",
       "      <th>2022-12-17 00:30:00</th>\n",
       "      <td>0.0</td>\n",
       "      <td>12.0</td>\n",
       "      <td>2022.0</td>\n",
       "      <td>50.0</td>\n",
       "    </tr>\n",
       "    <tr>\n",
       "      <th>2022-12-17 00:45:00</th>\n",
       "      <td>0.0</td>\n",
       "      <td>12.0</td>\n",
       "      <td>2022.0</td>\n",
       "      <td>50.0</td>\n",
       "    </tr>\n",
       "    <tr>\n",
       "      <th>2022-12-17 01:00:00</th>\n",
       "      <td>0.0</td>\n",
       "      <td>12.0</td>\n",
       "      <td>2022.0</td>\n",
       "      <td>50.0</td>\n",
       "    </tr>\n",
       "    <tr>\n",
       "      <th>...</th>\n",
       "      <td>...</td>\n",
       "      <td>...</td>\n",
       "      <td>...</td>\n",
       "      <td>...</td>\n",
       "    </tr>\n",
       "    <tr>\n",
       "      <th>2022-12-17 23:45:00</th>\n",
       "      <td>0.0</td>\n",
       "      <td>12.0</td>\n",
       "      <td>2022.0</td>\n",
       "      <td>50.0</td>\n",
       "    </tr>\n",
       "    <tr>\n",
       "      <th>2022-12-18 00:00:00</th>\n",
       "      <td>0.0</td>\n",
       "      <td>12.0</td>\n",
       "      <td>2022.0</td>\n",
       "      <td>50.0</td>\n",
       "    </tr>\n",
       "    <tr>\n",
       "      <th>2022-12-18 00:15:00</th>\n",
       "      <td>0.0</td>\n",
       "      <td>12.0</td>\n",
       "      <td>2022.0</td>\n",
       "      <td>50.0</td>\n",
       "    </tr>\n",
       "    <tr>\n",
       "      <th>2022-12-18 00:30:00</th>\n",
       "      <td>0.0</td>\n",
       "      <td>12.0</td>\n",
       "      <td>2022.0</td>\n",
       "      <td>50.0</td>\n",
       "    </tr>\n",
       "    <tr>\n",
       "      <th>2022-12-18 00:45:00</th>\n",
       "      <td>0.0</td>\n",
       "      <td>12.0</td>\n",
       "      <td>2022.0</td>\n",
       "      <td>50.0</td>\n",
       "    </tr>\n",
       "  </tbody>\n",
       "</table>\n",
       "<p>100 rows × 4 columns</p>\n",
       "</div>"
      ],
      "text/plain": [
       "                     Flowrate (l/min)  Month    Year  Week\n",
       "Time                                                      \n",
       "2022-12-17 00:00:00               0.0   12.0  2022.0  50.0\n",
       "2022-12-17 00:15:00               0.0   12.0  2022.0  50.0\n",
       "2022-12-17 00:30:00               0.0   12.0  2022.0  50.0\n",
       "2022-12-17 00:45:00               0.0   12.0  2022.0  50.0\n",
       "2022-12-17 01:00:00               0.0   12.0  2022.0  50.0\n",
       "...                               ...    ...     ...   ...\n",
       "2022-12-17 23:45:00               0.0   12.0  2022.0  50.0\n",
       "2022-12-18 00:00:00               0.0   12.0  2022.0  50.0\n",
       "2022-12-18 00:15:00               0.0   12.0  2022.0  50.0\n",
       "2022-12-18 00:30:00               0.0   12.0  2022.0  50.0\n",
       "2022-12-18 00:45:00               0.0   12.0  2022.0  50.0\n",
       "\n",
       "[100 rows x 4 columns]"
      ]
     },
     "execution_count": 16,
     "metadata": {},
     "output_type": "execute_result"
    }
   ],
   "source": [
    "TestData.head(100)"
   ]
  },
  {
   "cell_type": "code",
   "execution_count": 17,
   "id": "5e46c67e",
   "metadata": {},
   "outputs": [
    {
     "name": "stdout",
     "output_type": "stream",
     "text": [
      "45/45 [==============================] - 10s 199ms/step\n"
     ]
    },
    {
     "data": {
      "text/plain": [
       "(1440, 1)"
      ]
     },
     "execution_count": 17,
     "metadata": {},
     "output_type": "execute_result"
    }
   ],
   "source": [
    "\n",
    "inputs = NewDataSet[len(NewDataSet) - len(TestData) - 672:].values\n",
    "\n",
    "# We need to Reshape\n",
    "inputs = inputs.reshape(-1,1)\n",
    "\n",
    "# Normalize the Dataset\n",
    "inputs = sc.transform(inputs)\n",
    "\n",
    "X_test = []\n",
    "for i in range(672, 2112):\n",
    "    X_test.append(inputs[i-672:i])\n",
    "    \n",
    "# Convert into Numpy Array\n",
    "X_test = np.array(X_test)\n",
    "\n",
    "# Reshape before Passing to Network\n",
    "X_test = np.reshape(X_test, (X_test.shape[0], X_test.shape[1], 1))\n",
    "\n",
    "# Pass to Model \n",
    "predicted_price = regressor.predict(X_test)\n",
    "\n",
    "# Do inverse Transformation to get Values \n",
    "predicted_price = sc.inverse_transform(predicted_price)\n",
    "predicted_price.shape"
   ]
  },
  {
   "cell_type": "code",
   "execution_count": 18,
   "id": "0e0af5cb",
   "metadata": {},
   "outputs": [],
   "source": [
    "True_Flow = TestData[\"Flowrate (l/min)\"].to_list()\n",
    "Predicted_Flow  = predicted_price\n",
    "dates = TestData.index.to_list()"
   ]
  },
  {
   "cell_type": "code",
   "execution_count": 19,
   "id": "034be161",
   "metadata": {},
   "outputs": [],
   "source": [
    "Machine_Df = pd.DataFrame(data={\n",
    "    \"Date\":dates,\n",
    "    \"TrueFlow\": True_Flow,\n",
    "    \"PredictedFlow\":[x[0] for x in Predicted_Flow ]\n",
    "})\n",
    "Machine_Df = Machine_Df.set_index(\"Date\")\n",
    "dataset.index = pd.to_datetime(dataset.index)"
   ]
  },
  {
   "cell_type": "code",
   "execution_count": 20,
   "id": "22b2e294",
   "metadata": {},
   "outputs": [
    {
     "data": {
      "text/html": [
       "<div>\n",
       "<style scoped>\n",
       "    .dataframe tbody tr th:only-of-type {\n",
       "        vertical-align: middle;\n",
       "    }\n",
       "\n",
       "    .dataframe tbody tr th {\n",
       "        vertical-align: top;\n",
       "    }\n",
       "\n",
       "    .dataframe thead th {\n",
       "        text-align: right;\n",
       "    }\n",
       "</style>\n",
       "<table border=\"1\" class=\"dataframe\">\n",
       "  <thead>\n",
       "    <tr style=\"text-align: right;\">\n",
       "      <th></th>\n",
       "      <th>TrueFlow</th>\n",
       "      <th>PredictedFlow</th>\n",
       "    </tr>\n",
       "    <tr>\n",
       "      <th>Date</th>\n",
       "      <th></th>\n",
       "      <th></th>\n",
       "    </tr>\n",
       "  </thead>\n",
       "  <tbody>\n",
       "    <tr>\n",
       "      <th>2022-12-17 00:00:00</th>\n",
       "      <td>0.0</td>\n",
       "      <td>3.946167</td>\n",
       "    </tr>\n",
       "    <tr>\n",
       "      <th>2022-12-17 00:15:00</th>\n",
       "      <td>0.0</td>\n",
       "      <td>-1.109412</td>\n",
       "    </tr>\n",
       "    <tr>\n",
       "      <th>2022-12-17 00:30:00</th>\n",
       "      <td>0.0</td>\n",
       "      <td>2.340166</td>\n",
       "    </tr>\n",
       "    <tr>\n",
       "      <th>2022-12-17 00:45:00</th>\n",
       "      <td>0.0</td>\n",
       "      <td>10.721845</td>\n",
       "    </tr>\n",
       "    <tr>\n",
       "      <th>2022-12-17 01:00:00</th>\n",
       "      <td>0.0</td>\n",
       "      <td>3.932278</td>\n",
       "    </tr>\n",
       "    <tr>\n",
       "      <th>...</th>\n",
       "      <td>...</td>\n",
       "      <td>...</td>\n",
       "    </tr>\n",
       "    <tr>\n",
       "      <th>2022-12-31 22:45:00</th>\n",
       "      <td>0.0</td>\n",
       "      <td>10.750802</td>\n",
       "    </tr>\n",
       "    <tr>\n",
       "      <th>2022-12-31 23:00:00</th>\n",
       "      <td>0.0</td>\n",
       "      <td>3.954505</td>\n",
       "    </tr>\n",
       "    <tr>\n",
       "      <th>2022-12-31 23:15:00</th>\n",
       "      <td>0.0</td>\n",
       "      <td>-1.094870</td>\n",
       "    </tr>\n",
       "    <tr>\n",
       "      <th>2022-12-31 23:30:00</th>\n",
       "      <td>0.0</td>\n",
       "      <td>2.388971</td>\n",
       "    </tr>\n",
       "    <tr>\n",
       "      <th>2022-12-31 23:45:00</th>\n",
       "      <td>0.0</td>\n",
       "      <td>10.765144</td>\n",
       "    </tr>\n",
       "  </tbody>\n",
       "</table>\n",
       "<p>1440 rows × 2 columns</p>\n",
       "</div>"
      ],
      "text/plain": [
       "                     TrueFlow  PredictedFlow\n",
       "Date                                        \n",
       "2022-12-17 00:00:00       0.0       3.946167\n",
       "2022-12-17 00:15:00       0.0      -1.109412\n",
       "2022-12-17 00:30:00       0.0       2.340166\n",
       "2022-12-17 00:45:00       0.0      10.721845\n",
       "2022-12-17 01:00:00       0.0       3.932278\n",
       "...                       ...            ...\n",
       "2022-12-31 22:45:00       0.0      10.750802\n",
       "2022-12-31 23:00:00       0.0       3.954505\n",
       "2022-12-31 23:15:00       0.0      -1.094870\n",
       "2022-12-31 23:30:00       0.0       2.388971\n",
       "2022-12-31 23:45:00       0.0      10.765144\n",
       "\n",
       "[1440 rows x 2 columns]"
      ]
     },
     "execution_count": 20,
     "metadata": {},
     "output_type": "execute_result"
    }
   ],
   "source": [
    "Machine_Df"
   ]
  },
  {
   "cell_type": "code",
   "execution_count": 25,
   "id": "f0a44473",
   "metadata": {},
   "outputs": [
    {
     "data": {
      "text/plain": [
       "<matplotlib.legend.Legend at 0x277b77f3340>"
      ]
     },
     "execution_count": 25,
     "metadata": {},
     "output_type": "execute_result"
    },
    {
     "data": {
      "image/png": "[encoded data removed]",
      "text/plain": [
       "<Figure size 1440x720 with 1 Axes>"
      ]
     },
     "metadata": {},
     "output_type": "display_data"
    }
   ],
   "source": [
    "Machine_Df=Machine_Df.loc['20221218':'20221218']\n",
    "fig = plt.figure()\n",
    "\n",
    "ax1= fig.add_subplot(111)\n",
    "\n",
    "\n",
    "plt.bar(Machine_Df.index,Machine_Df[\"TrueFlow\"],width=0.01,label = \"Original\")\n",
    "plt.bar(Machine_Df.index,Machine_Df[\"PredictedFlow\"],width=0.01,label = \"Predicted\")\n",
    "\n",
    "\n",
    "ax1.xaxis.set_major_locator(md.MinuteLocator(byminute = [0, 120]))\n",
    "ax1.xaxis.set_major_formatter(md.DateFormatter('%H:%M'))\n",
    "plt.xlabel('Dates')\n",
    "plt.ylabel(\"Flowrate (l/min)\")\n",
    "plt.title(\"DHW usage on December 18\")\n",
    "\n",
    "plt.legend()"
   ]
  },
  {
   "cell_type": "code",
   "execution_count": null,
   "id": "1e608c83",
   "metadata": {},
   "outputs": [],
   "source": []
  }
 ],
 "metadata": {
  "kernelspec": {
   "display_name": "Python 3 (ipykernel)",
   "language": "python",
   "name": "python3"
  },
  "language_info": {
   "codemirror_mode": {
    "name": "ipython",
    "version": 3
   },
   "file_extension": ".py",
   "mimetype": "text/x-python",
   "name": "python",
   "nbconvert_exporter": "python",
   "pygments_lexer": "ipython3",
   "version": "3.9.12"
  }
 },
 "nbformat": 4,
 "nbformat_minor": 5
}
